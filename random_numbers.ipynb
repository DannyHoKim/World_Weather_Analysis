{
 "cells": [
  {
   "cell_type": "code",
   "execution_count": 1,
   "id": "de453aa6",
   "metadata": {},
   "outputs": [],
   "source": [
    "# Import the random module.\n",
    "import random"
   ]
  },
  {
   "cell_type": "code",
   "execution_count": 2,
   "id": "36b34746",
   "metadata": {},
   "outputs": [
    {
     "data": {
      "text/plain": [
       "10"
      ]
     },
     "execution_count": 2,
     "metadata": {},
     "output_type": "execute_result"
    }
   ],
   "source": [
    "random.randint(-90,90)"
   ]
  },
  {
   "cell_type": "code",
   "execution_count": 3,
   "id": "35bddc55",
   "metadata": {},
   "outputs": [
    {
     "data": {
      "text/plain": [
       "60.88121295979699"
      ]
     },
     "execution_count": 3,
     "metadata": {},
     "output_type": "execute_result"
    }
   ],
   "source": [
    "random_num = random.randint(-90, 89) + random.random()\n",
    "random_num"
   ]
  },
  {
   "cell_type": "code",
   "execution_count": 16,
   "id": "14045a27",
   "metadata": {},
   "outputs": [],
   "source": [
    "x = 1\n",
    "latitudes = []\n",
    "while x < 11:\n",
    "    random_lat = random.randint(-90, 89) + random.random()\n",
    "    latitudes.append(random_lat)\n",
    "    x += 1"
   ]
  },
  {
   "cell_type": "code",
   "execution_count": 17,
   "id": "ce110c1b",
   "metadata": {},
   "outputs": [
    {
     "data": {
      "text/plain": [
       "[-35.83771913256937,\n",
       " 82.09643880482798,\n",
       " -55.12885806736894,\n",
       " 8.162349042719104,\n",
       " -22.555326851928072,\n",
       " 68.346876789113,\n",
       " 69.70927202090715,\n",
       " 66.0291009407385,\n",
       " 71.60754382817584,\n",
       " 58.665716119824495]"
      ]
     },
     "execution_count": 17,
     "metadata": {},
     "output_type": "execute_result"
    }
   ],
   "source": [
    "latitudes"
   ]
  },
  {
   "cell_type": "code",
   "execution_count": 18,
   "id": "c5a0e261",
   "metadata": {},
   "outputs": [
    {
     "data": {
      "text/plain": [
       "36"
      ]
     },
     "execution_count": 18,
     "metadata": {},
     "output_type": "execute_result"
    }
   ],
   "source": [
    "random.randrange(-90, 90, step=1)"
   ]
  },
  {
   "cell_type": "code",
   "execution_count": 21,
   "id": "7b34459a",
   "metadata": {},
   "outputs": [
    {
     "data": {
      "text/plain": [
       "27"
      ]
     },
     "execution_count": 21,
     "metadata": {},
     "output_type": "execute_result"
    }
   ],
   "source": [
    "random.randrange(-90, 90, step=3)"
   ]
  },
  {
   "cell_type": "code",
   "execution_count": 22,
   "id": "5f30dbb6",
   "metadata": {},
   "outputs": [
    {
     "data": {
      "text/plain": [
       "69.8509214456297"
      ]
     },
     "execution_count": 22,
     "metadata": {},
     "output_type": "execute_result"
    }
   ],
   "source": [
    "random.uniform(-90, 90)"
   ]
  },
  {
   "cell_type": "code",
   "execution_count": 23,
   "id": "68b4ad39",
   "metadata": {},
   "outputs": [],
   "source": [
    "# Import the NumPy module.\n",
    "import numpy as np"
   ]
  },
  {
   "cell_type": "code",
   "execution_count": 24,
   "id": "ed4e3425",
   "metadata": {},
   "outputs": [
    {
     "data": {
      "text/plain": [
       "-35.97341633156168"
      ]
     },
     "execution_count": 24,
     "metadata": {},
     "output_type": "execute_result"
    }
   ],
   "source": [
    "np.random.uniform(-90.000, 90.000)"
   ]
  },
  {
   "cell_type": "code",
   "execution_count": 25,
   "id": "5dae50ed",
   "metadata": {},
   "outputs": [
    {
     "data": {
      "text/plain": [
       "array([ -6.08625295,  -0.52085911,  23.20807916, -47.5020659 ,\n",
       "         6.31729497, -24.1819112 ,   9.88734368, -88.60653847,\n",
       "       -70.87887378, -53.4253537 ,  27.93396173, -54.50881305,\n",
       "        88.76145234, -42.55521982,  63.20848068,  81.94756909,\n",
       "       -44.90679053, -55.46779068, -19.92806532,  82.97979123,\n",
       "        25.06468921, -26.41625552, -11.81019402, -31.67646753,\n",
       "       -48.52336522,  82.59259808,  -2.09466075,  63.51073346,\n",
       "       -77.46096693, -64.55688299, -42.86302933,  75.7053023 ,\n",
       "       -80.07292746, -52.99572519,  76.6397678 ,  77.83631805,\n",
       "        65.35924301,  71.16472182, -19.0839115 ,  44.62010888,\n",
       "        47.35292897,  18.59617607, -65.58721771,  17.41755899,\n",
       "       -43.29678409, -69.52173335,  74.33114578,   7.72354975,\n",
       "        16.25515994,  79.00498762])"
      ]
     },
     "execution_count": 25,
     "metadata": {},
     "output_type": "execute_result"
    }
   ],
   "source": [
    "np.random.uniform(-90.000, 90.000, size=50)"
   ]
  },
  {
   "cell_type": "code",
   "execution_count": 28,
   "id": "68393d41",
   "metadata": {},
   "outputs": [
    {
     "name": "stdout",
     "output_type": "stream",
     "text": [
      "10.5 µs ± 432 ns per loop (mean ± std. dev. of 7 runs, 100000 loops each)\n"
     ]
    }
   ],
   "source": [
    "# Import timeit.\n",
    "import timeit\n",
    "%timeit np.random.uniform(-90.000, 90.000, size=1500)"
   ]
  },
  {
   "cell_type": "code",
   "execution_count": 29,
   "id": "3718f7ad",
   "metadata": {},
   "outputs": [
    {
     "name": "stdout",
     "output_type": "stream",
     "text": [
      "1.15 ms ± 5.49 µs per loop (mean ± std. dev. of 7 runs, 1000 loops each)\n"
     ]
    }
   ],
   "source": [
    "def latitudes(size):\n",
    "    latitudes = []\n",
    "    x = 0\n",
    "    while x < (size):\n",
    "        random_lat = random.randint(-90, 90) + random.random()\n",
    "        latitudes.append(random_lat)\n",
    "        x += 1\n",
    "    return latitudes\n",
    "# Call the function with 1500.\n",
    "%timeit latitudes(1500)"
   ]
  },
  {
   "cell_type": "code",
   "execution_count": null,
   "id": "303ac2c9",
   "metadata": {},
   "outputs": [],
   "source": []
  }
 ],
 "metadata": {
  "kernelspec": {
   "display_name": "PythonData",
   "language": "python",
   "name": "pythondata"
  },
  "language_info": {
   "codemirror_mode": {
    "name": "ipython",
    "version": 3
   },
   "file_extension": ".py",
   "mimetype": "text/x-python",
   "name": "python",
   "nbconvert_exporter": "python",
   "pygments_lexer": "ipython3",
   "version": "3.7.13"
  }
 },
 "nbformat": 4,
 "nbformat_minor": 5
}
